{
  "cells": [
    {
      "cell_type": "markdown",
      "metadata": {
        "colab_type": "text",
        "id": "view-in-github"
      },
      "source": [
        "<a href=\"https://colab.research.google.com/github/JackBlake-zkq/robust-edge-inference/blob/main/train.ipynb\" target=\"_parent\"><img src=\"https://colab.research.google.com/assets/colab-badge.svg\" alt=\"Open In Colab\"/></a>"
      ]
    },
    {
      "cell_type": "code",
      "execution_count": 1,
      "metadata": {},
      "outputs": [],
      "source": [
        "from fa_ensemble import FiniteAggregationEnsemble\n",
        "from torchvision.datasets import CIFAR10\n",
        "from torchvision import transforms\n",
        "import torch\n",
        "from torch import nn, optim\n",
        "import random\n",
        "import numpy\n",
        "from tqdm import tqdm\n",
        "import ssl\n",
        "from models.resnet import ResNet18"
      ]
    },
    {
      "cell_type": "code",
      "execution_count": 2,
      "metadata": {},
      "outputs": [
        {
          "name": "stdout",
          "output_type": "stream",
          "text": [
            "Files already downloaded and verified\n",
            "Files already downloaded and verified\n"
          ]
        }
      ],
      "source": [
        "trainset = CIFAR10(root='./data', train=True, download=True, transform=transforms.Compose([\n",
        "    transforms.RandomCrop(32, padding=4),\n",
        "    transforms.RandomHorizontalFlip(),\n",
        "    transforms.ToTensor(),\n",
        "    transforms.Normalize((0.4914, 0.4822, 0.4465), (0.2023, 0.1994, 0.2010)),\n",
        "]))\n",
        "\n",
        "testset = CIFAR10(root='./data', train=False, download=True, transform=transforms.Compose([\n",
        "    transforms.ToTensor(),\n",
        "    transforms.Normalize((0.4914, 0.4822, 0.4465), (0.2023, 0.1994, 0.2010)),\n",
        "]))"
      ]
    },
    {
      "cell_type": "code",
      "execution_count": 4,
      "metadata": {},
      "outputs": [],
      "source": [
        "def train_base_model(partition_number, train_subset):\n",
        "    seed = partition_number\n",
        "    random.seed(seed)\n",
        "    numpy.random.seed(seed)\n",
        "    torch.manual_seed(seed)\n",
        "    torch.cuda.manual_seed_all(seed)\n",
        "    curr_lr = 0.1\n",
        "    epochs = 30\n",
        "    device = (\n",
        "        \"cuda\"\n",
        "        if torch.cuda.is_available()\n",
        "        else \"mps\"\n",
        "        if torch.backends.mps.is_available()\n",
        "        else \"cpu\"\n",
        "    )\n",
        "\n",
        "    trainloader = torch.utils.data.DataLoader(train_subset, batch_size=128, shuffle=True, num_workers=1)\n",
        "    \n",
        "    ssl._create_default_https_context = ssl._create_unverified_context\n",
        "    net = ResNet18()\n",
        "\n",
        "    net = net.to(device)\n",
        "\n",
        "    criterion = nn.CrossEntropyLoss()\n",
        "\n",
        "    optimizer = optim.SGD(net.parameters(), lr=curr_lr, momentum=0.9, weight_decay=0.0005, nesterov= True)\n",
        "\n",
        "    # Training\n",
        "    net.train()\n",
        "    for epoch in tqdm(range(epochs)):\n",
        "        for (inputs, targets) in trainloader:\n",
        "            inputs, targets = inputs.to(device), targets.to(device)\n",
        "            optimizer.zero_grad()\n",
        "            outputs = net(inputs)\n",
        "            loss = criterion(outputs, targets)\n",
        "            loss.backward()\n",
        "            optimizer.step()\n",
        "        if (epoch in [60,120,160]):\n",
        "            curr_lr = curr_lr * 0.2\n",
        "            for param_group in optimizer.param_groups:\n",
        "                param_group['lr'] = curr_lr\n",
        "\n",
        "\n",
        "    net.eval()\n",
        "    nomtestloader = torch.utils.data.DataLoader(testset, batch_size=2000, shuffle=False, num_workers=1)\n",
        "    correct = 0\n",
        "    total = 0\n",
        "    for (inputs, targets) in nomtestloader:\n",
        "        inputs, targets = inputs.to(device), targets.to(device)\n",
        "        with torch.no_grad():\n",
        "            outputs = net(inputs)\n",
        "            loss = criterion(outputs, targets)\n",
        "            _, predicted = outputs.max(1)\n",
        "            correct += predicted.eq(targets).sum().item()\n",
        "            total += targets.size(0)\n",
        "    acc = 100.*correct/total\n",
        "    print(f'Accuracy for base model {partition_number}: {str(acc)}%')\n",
        "\n",
        "    return net\n"
      ]
    },
    {
      "cell_type": "code",
      "execution_count": 5,
      "metadata": {},
      "outputs": [],
      "source": [
        "ensemble = FiniteAggregationEnsemble(trainset, testset, train_base_model, 10, state_dir=\"resnet_single\", k=50, d=3, channels=3)\n",
        "for i in range(150):\n",
        "    ensemble.train_base_model(i)\n",
        "ensemble.certify()"
      ]
    }
  ],
  "metadata": {
    "colab": {
      "include_colab_link": true,
      "provenance": []
    },
    "kernelspec": {
      "display_name": "Python 3",
      "name": "python3"
    },
    "language_info": {
      "codemirror_mode": {
        "name": "ipython",
        "version": 3
      },
      "file_extension": ".py",
      "mimetype": "text/x-python",
      "name": "python",
      "nbconvert_exporter": "python",
      "pygments_lexer": "ipython3",
      "version": "3.10.5"
    }
  },
  "nbformat": 4,
  "nbformat_minor": 0
}
