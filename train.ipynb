{
  "cells": [
    {
      "cell_type": "markdown",
      "metadata": {
        "colab_type": "text",
        "id": "view-in-github"
      },
      "source": [
        "<a href=\"https://colab.research.google.com/github/JackBlake-zkq/robust-edge-inference/blob/main/train.ipynb\" target=\"_parent\"><img src=\"https://colab.research.google.com/assets/colab-badge.svg\" alt=\"Open In Colab\"/></a>"
      ]
    },
    {
      "cell_type": "markdown",
      "metadata": {
        "id": "5wP7dmuQDdur"
      },
      "source": [
        "[Distillation Code](https://github.com/ZuchniakK/MTKD)"
      ]
    },
    {
      "cell_type": "code",
      "execution_count": 1,
      "metadata": {},
      "outputs": [],
      "source": [
        "from modules.FA_trainer import FiniteAggregationEnsembleTrainer\n",
        "import torchvision\n",
        "from modules.NetworkInNetwork import NetworkInNetworkGenerator\n",
        "from threading import Thread"
      ]
    },
    {
      "cell_type": "code",
      "execution_count": 2,
      "metadata": {},
      "outputs": [
        {
          "name": "stdout",
          "output_type": "stream",
          "text": [
            "Creating output dir...\n",
            "Getting data set...\n",
            "Files already downloaded and verified\n",
            "Computing partitions...\n"
          ]
        }
      ],
      "source": [
        "class CIFAR10Generator:\n",
        "    def __init__(self):\n",
        "        pass\n",
        "    def trainset(self):\n",
        "        return torchvision.datasets.CIFAR10(root='./data', train=True, download=True)\n",
        "    def testset(self):\n",
        "        return torchvision.datasets.CIFAR10(root='./data', train=False, download=True)\n",
        "    \n",
        "trainer = FiniteAggregationEnsembleTrainer(CIFAR10Generator(), NetworkInNetworkGenerator({'num_classes': 10}), k=10, d=2, zero_seed=True)"
      ]
    },
    {
      "cell_type": "code",
      "execution_count": 3,
      "metadata": {},
      "outputs": [
        {
          "name": "stdout",
          "output_type": "stream",
          "text": [
            "using device: mps\n",
            "Files already downloaded and verified\n",
            "Files already downloaded and verified\n",
            "Accuracy for base model 0: 27.37%\n",
            "Saving..\n"
          ]
        }
      ],
      "source": [
        "trainer.train_base_models(0, 1, 20)"
      ]
    }
  ],
  "metadata": {
    "colab": {
      "include_colab_link": true,
      "provenance": []
    },
    "kernelspec": {
      "display_name": "Python 3",
      "name": "python3"
    },
    "language_info": {
      "codemirror_mode": {
        "name": "ipython",
        "version": 3
      },
      "file_extension": ".py",
      "mimetype": "text/x-python",
      "name": "python",
      "nbconvert_exporter": "python",
      "pygments_lexer": "ipython3",
      "version": "3.10.5"
    }
  },
  "nbformat": 4,
  "nbformat_minor": 0
}
